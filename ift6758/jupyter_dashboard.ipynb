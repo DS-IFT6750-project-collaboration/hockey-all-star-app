{
 "cells": [
  {
   "cell_type": "code",
   "execution_count": 90,
   "metadata": {},
   "outputs": [],
   "source": [
    "from ipywidgets import interact, Text, Button, GridspecLayout, Layout, Label, VBox, HBox, AppLayout, HTML, Accordion\n",
    "\n",
    "from ift6758 import client, data"
   ]
  },
  {
   "cell_type": "code",
   "execution_count": 74,
   "metadata": {},
   "outputs": [
    {
     "data": {
      "application/vnd.jupyter.widget-view+json": {
       "model_id": "3b43b09b307e466caf18fa3f749092b1",
       "version_major": 2,
       "version_minor": 0
      },
      "text/plain": [
       "VBox(children=(Text(value='', description='Workspace'), Text(value='', description='Model'), Text(value='', de…"
      ]
     },
     "metadata": {},
     "output_type": "display_data"
    }
   ],
   "source": [
    "model_panel = VBox(\n",
    "    [\n",
    "        Text(description=\"Workspace\"),\n",
    "        Text(description=\"Model\"),\n",
    "        Text(description=\"Version\"),\n",
    "        Button(description=\"Download model\", button_style=\"info\"),\n",
    "    ],\n",
    "    layout=Layout(display='flex', flex_flow='column', align_items='flex-end')\n",
    ")\n",
    "\n",
    "model_panel"
   ]
  },
  {
   "cell_type": "code",
   "execution_count": 75,
   "metadata": {},
   "outputs": [
    {
     "data": {
      "application/vnd.jupyter.widget-view+json": {
       "model_id": "b014990a7fc74c3a8752e42c95b8adfe",
       "version_major": 2,
       "version_minor": 0
      },
      "text/plain": [
       "VBox(children=(Text(value='', description='Game ID'), Button(button_style='info', description='Query game', st…"
      ]
     },
     "metadata": {},
     "output_type": "display_data"
    }
   ],
   "source": [
    "game_panel = VBox(\n",
    "    [\n",
    "        Text(description=\"Game ID\"),\n",
    "        Button(description=\"Query game\", button_style=\"info\"),\n",
    "    ],\n",
    "    layout=Layout(display='flex', flex_flow='column', align_items='flex-end')\n",
    ")\n",
    "\n",
    "game_panel"
   ]
  },
  {
   "cell_type": "code",
   "execution_count": 89,
   "metadata": {},
   "outputs": [
    {
     "data": {
      "application/vnd.jupyter.widget-view+json": {
       "model_id": "0ce3cac2506348d786daf528f811ed93",
       "version_major": 2,
       "version_minor": 0
      },
      "text/plain": [
       "VBox(children=(HTML(value='<h2> Menu </h2>'), HBox(children=(VBox(children=(Text(value='', description='Worksp…"
      ]
     },
     "metadata": {},
     "output_type": "display_data"
    }
   ],
   "source": [
    "menu_panel = VBox([\n",
    "    HTML(value=\"<h2> Menu </h2>\"),\n",
    "    HBox([model_panel, game_panel])\n",
    "])\n",
    "\n",
    "menu_panel"
   ]
  },
  {
   "cell_type": "code",
   "execution_count": null,
   "metadata": {},
   "outputs": [],
   "source": [
    "output_panel = "
   ]
  },
  {
   "cell_type": "code",
   "execution_count": 86,
   "metadata": {},
   "outputs": [
    {
     "data": {
      "application/vnd.jupyter.widget-view+json": {
       "model_id": "f62c40f8c6344207b4edf13bee7bb38e",
       "version_major": 2,
       "version_minor": 0
      },
      "text/plain": [
       "VBox(children=(HBox(children=(HTML(value='<h2> Menu </h2>'),)), HBox(children=(VBox(children=(Text(value='', d…"
      ]
     },
     "metadata": {},
     "output_type": "display_data"
    }
   ],
   "source": [
    "dataframe_panel = Accordion(\n",
    "    children=[]\n",
    ")"
   ]
  }
 ],
 "metadata": {
  "interpreter": {
   "hash": "ead5f43594022c7cd5f301318ae4950132a1480e3738270166fab8a4a3b2cf4b"
  },
  "kernelspec": {
   "display_name": "Python 3.8.11 64-bit ('nice_play': conda)",
   "name": "python3"
  },
  "language_info": {
   "codemirror_mode": {
    "name": "ipython",
    "version": 3
   },
   "file_extension": ".py",
   "mimetype": "text/x-python",
   "name": "python",
   "nbconvert_exporter": "python",
   "pygments_lexer": "ipython3",
   "version": "3.8.11"
  },
  "orig_nbformat": 4
 },
 "nbformat": 4,
 "nbformat_minor": 2
}
