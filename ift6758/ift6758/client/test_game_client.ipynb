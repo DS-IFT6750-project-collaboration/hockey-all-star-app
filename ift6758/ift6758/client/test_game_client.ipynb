{
 "cells": [
  {
   "cell_type": "code",
   "execution_count": 1,
   "metadata": {},
   "outputs": [],
   "source": [
    "import game_client as gc"
   ]
  },
  {
   "cell_type": "code",
   "execution_count": 2,
   "metadata": {},
   "outputs": [],
   "source": [
    "client = gc.GameClient()"
   ]
  },
  {
   "cell_type": "code",
   "execution_count": 8,
   "metadata": {},
   "outputs": [],
   "source": [
    "#https://statsapi.web.nhl.com/api/v1/game/2021020329/feed/live/\n",
    "client.ping_game(2021020329)"
   ]
  },
  {
   "cell_type": "code",
   "execution_count": 9,
   "metadata": {},
   "outputs": [
    {
     "data": {
      "text/plain": [
       "318"
      ]
     },
     "execution_count": 9,
     "metadata": {},
     "output_type": "execute_result"
    }
   ],
   "source": [
    "client.last_play_idx"
   ]
  }
 ],
 "metadata": {
  "interpreter": {
   "hash": "ead5f43594022c7cd5f301318ae4950132a1480e3738270166fab8a4a3b2cf4b"
  },
  "kernelspec": {
   "display_name": "Python 3.8.11 64-bit ('nice_play': conda)",
   "name": "python3"
  },
  "language_info": {
   "codemirror_mode": {
    "name": "ipython",
    "version": 3
   },
   "file_extension": ".py",
   "mimetype": "text/x-python",
   "name": "python",
   "nbconvert_exporter": "python",
   "pygments_lexer": "ipython3",
   "version": "3.8.11"
  },
  "orig_nbformat": 4
 },
 "nbformat": 4,
 "nbformat_minor": 2
}
