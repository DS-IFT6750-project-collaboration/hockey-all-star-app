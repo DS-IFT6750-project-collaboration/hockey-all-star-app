{
 "cells": [
  {
   "cell_type": "code",
   "execution_count": 1,
   "metadata": {},
   "outputs": [],
   "source": [
    "from IPython.display import display, clear_output\n",
    "from ipywidgets import interact, interactive, Text, Button, GridspecLayout, Layout, Label, VBox, HBox, AppLayout, HTML, Accordion, Dropdown, Output\n",
    "\n",
    "import pandas as pd\n",
    "from game_client import GameClient\n",
    "from serving_client import ServingClient"
   ]
  },
  {
   "cell_type": "code",
   "execution_count": 2,
   "metadata": {},
   "outputs": [],
   "source": [
    "SERVING_CLIENT = ServingClient()\n",
    "GAME_CLIENT = GameClient()"
   ]
  },
  {
   "cell_type": "markdown",
   "metadata": {},
   "source": [
    "## GUI"
   ]
  },
  {
   "cell_type": "code",
   "execution_count": 3,
   "metadata": {},
   "outputs": [],
   "source": [
    "# section to download the model\n",
    "workspace_text_in = Text(description=\"Workspace\")\n",
    "model_text_in = Text(description=\"Model\")\n",
    "version_text_in = Text(description=\"Version\")\n",
    "download_model_button = Button(description=\"Download model\", button_style=\"info\")\n",
    "\n",
    "model_panel = VBox(\n",
    "    [\n",
    "        workspace_text_in,\n",
    "        model_text_in,\n",
    "        version_text_in,\n",
    "        download_model_button,\n",
    "    ],\n",
    "    layout=Layout(display='flex', flex_flow='column', align_items='flex-end')\n",
    ")"
   ]
  },
  {
   "cell_type": "code",
   "execution_count": 4,
   "metadata": {},
   "outputs": [],
   "source": [
    "def download_btn(btn):\n",
    "    with out:\n",
    "        clear_output()\n",
    "        SERVING_CLIENT.download_registry_model(\n",
    "            workspace=workspace_text_in.value,\n",
    "            model=model_text_in.value,\n",
    "            version=version_text_in.value\n",
    "        )\n",
    "        print(f\"Downloading model: {model_text_in.value} v{version_text_in.value}\")\n",
    "\n",
    "download_model_button.on_click(download_btn)"
   ]
  },
  {
   "cell_type": "code",
   "execution_count": 5,
   "metadata": {},
   "outputs": [],
   "source": [
    "# section to ping the game\n",
    "ping_button = Button(description=\"Query game\", button_style=\"info\")\n",
    "game_id_input = Text(description=\"Game ID\")\n",
    "\n",
    "game_panel = VBox(\n",
    "    [\n",
    "        game_id_input,\n",
    "        ping_button,\n",
    "    ],\n",
    "    layout=Layout(display='flex', flex_flow='column', align_items='flex-end')\n",
    ")"
   ]
  },
  {
   "cell_type": "code",
   "execution_count": 10,
   "metadata": {},
   "outputs": [],
   "source": [
    "def gui_output(client):\n",
    "    print(\"#\"*40)\n",
    "    print(\"STATUS\")\n",
    "    print(f\"Period: {client.period}\\t   Time left: {str(client.time_left)[-5:]}\")\n",
    "    print(\"#\"*40)\n",
    "    print(\"TEAMS\")\n",
    "    print(f\"Home: {client.home_abbrev}\\t | Away: {client.away_abbrev}\")\n",
    "    print(f\"{client.home_team}\\t | {client.away_team}\")\n",
    "    print(\"#\"*40)\n",
    "    print(\"EXPECTED GOAL\")\n",
    "    print(f\"{client.home_abbrev} xG: \\t | {client.away_abbrev} xG: \")\n",
    "    print(\"#\"*40)\n",
    "    print(f\"last ping: {client.last_ping_at}\")\n",
    "    print(\"\\n\\n\")\n",
    "  \n",
    "\n",
    "def ping_btn(btn):\n",
    "    with out:\n",
    "        clear_output()\n",
    "        previous_df_length = GAME_CLIENT.features_df.shape[0]\n",
    "        GAME_CLIENT.ping_game(game_id_input.value)\n",
    "        #SERVING_CLIENT.predict(GAME_CLIENT.features_df.iloc[previous_df_length:])\n",
    "        gui_output(GAME_CLIENT)\n",
    "        \n",
    "ping_button.on_click(ping_btn)"
   ]
  },
  {
   "cell_type": "code",
   "execution_count": 7,
   "metadata": {},
   "outputs": [
    {
     "name": "stderr",
     "output_type": "stream",
     "text": [
      "C:\\Users\\TJ\\miniconda3\\envs\\nice_play\\lib\\site-packages\\pandas\\core\\indexing.py:1732: SettingWithCopyWarning: \n",
      "A value is trying to be set on a copy of a slice from a DataFrame\n",
      "\n",
      "See the caveats in the documentation: https://pandas.pydata.org/pandas-docs/stable/user_guide/indexing.html#returning-a-view-versus-a-copy\n",
      "  self._setitem_single_block(indexer, value, name)\n"
     ]
    }
   ],
   "source": [
    "GAME_CLIENT.ping_game(2021020492)"
   ]
  },
  {
   "cell_type": "code",
   "execution_count": 11,
   "metadata": {},
   "outputs": [],
   "source": [
    "out = Output()\n",
    "\n",
    "dashboard = HBox([\n",
    "    VBox([\n",
    "        HTML(value=\"<h2>Menu</h2>\"),\n",
    "        model_panel,\n",
    "        game_panel\n",
    "    ]),\n",
    "    VBox([out], layout=Layout(display=\"flex\", flex_flow=\"row\", align_items=\"center\"))\n",
    "])"
   ]
  },
  {
   "cell_type": "code",
   "execution_count": 12,
   "metadata": {},
   "outputs": [
    {
     "data": {
      "application/vnd.jupyter.widget-view+json": {
       "model_id": "178978731ada45a39e46b601b38da3a2",
       "version_major": 2,
       "version_minor": 0
      },
      "text/plain": [
       "HBox(children=(VBox(children=(HTML(value='<h2>Menu</h2>'), VBox(children=(Text(value='hockey', description='Wo…"
      ]
     },
     "metadata": {},
     "output_type": "display_data"
    }
   ],
   "source": [
    "display(dashboard)"
   ]
  }
 ],
 "metadata": {
  "interpreter": {
   "hash": "ead5f43594022c7cd5f301318ae4950132a1480e3738270166fab8a4a3b2cf4b"
  },
  "kernelspec": {
   "display_name": "Python 3.8.11 64-bit ('nice_play': conda)",
   "name": "python3"
  },
  "language_info": {
   "codemirror_mode": {
    "name": "ipython",
    "version": 3
   },
   "file_extension": ".py",
   "mimetype": "text/x-python",
   "name": "python",
   "nbconvert_exporter": "python",
   "pygments_lexer": "ipython3",
   "version": "3.8.11"
  },
  "orig_nbformat": 4
 },
 "nbformat": 4,
 "nbformat_minor": 2
}
