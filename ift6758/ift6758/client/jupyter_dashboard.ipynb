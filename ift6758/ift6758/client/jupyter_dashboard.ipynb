{
 "cells": [
  {
   "cell_type": "code",
   "execution_count": 1,
   "metadata": {},
   "outputs": [],
   "source": [
    "from IPython.display import display\n",
    "from ipywidgets import interact, Text, Button, GridspecLayout, Layout, Label, VBox, HBox, AppLayout, HTML, Accordion\n",
    "\n",
    "import pandas as pd\n",
    "from game_client import GameClient"
   ]
  },
  {
   "cell_type": "markdown",
   "metadata": {},
   "source": [
    "## creating GUI"
   ]
  },
  {
   "cell_type": "code",
   "execution_count": 22,
   "metadata": {},
   "outputs": [
    {
     "name": "stdout",
     "output_type": "stream",
     "text": [
      "d\n"
     ]
    },
    {
     "data": {
      "application/vnd.jupyter.widget-view+json": {
       "model_id": "2acf61bdfcff4a9aa06deb811077b307",
       "version_major": 2,
       "version_minor": 0
      },
      "text/plain": [
       "VBox(children=(Text(value='', description='Workspace'), Text(value='', description='Model'), Text(value='', de…"
      ]
     },
     "metadata": {},
     "output_type": "display_data"
    }
   ],
   "source": [
    "download_model_button = Button(description=\"Download model\", button_style=\"info\")\n",
    "download_model_button.on_click(print(\"d\"))\n",
    "\n",
    "model_panel = VBox(\n",
    "    [\n",
    "        Text(description=\"Workspace\"),\n",
    "        Text(description=\"Model\"),\n",
    "        Text(description=\"Version\"),\n",
    "        download_model_button,\n",
    "    ],\n",
    "    layout=Layout(display='flex', flex_flow='column', align_items='flex-end')\n",
    ")\n",
    "\n",
    "model_panel"
   ]
  },
  {
   "cell_type": "code",
   "execution_count": 26,
   "metadata": {},
   "outputs": [
    {
     "data": {
      "application/vnd.jupyter.widget-view+json": {
       "model_id": "387045186124411697bee20a6de4c060",
       "version_major": 2,
       "version_minor": 0
      },
      "text/plain": [
       "VBox(children=(Text(value='', description='Game ID'), Button(button_style='info', description='Query game', st…"
      ]
     },
     "metadata": {},
     "output_type": "display_data"
    }
   ],
   "source": [
    "query_game_button = Button(description=\"Query game\", button_style=\"info\")\n",
    "\n",
    "\n",
    "game_id_input = Text(description=\"Game ID\")\n",
    "\n",
    "game_panel = VBox(\n",
    "    [\n",
    "        game_id_input,\n",
    "        query_game_button,\n",
    "    ],\n",
    "    layout=Layout(display='flex', flex_flow='column', align_items='flex-end')\n",
    ")\n",
    "\n",
    "def get_input():\n",
    "    print(game_id_input.value )   \n",
    "\n",
    "query_game_button.on_click(get_input)\n",
    "game_panel"
   ]
  },
  {
   "cell_type": "code",
   "execution_count": 23,
   "metadata": {},
   "outputs": [
    {
     "data": {
      "application/vnd.jupyter.widget-view+json": {
       "model_id": "0dd54204384a4c43a56b26ef7dba53a1",
       "version_major": 2,
       "version_minor": 0
      },
      "text/plain": [
       "VBox(children=(HTML(value='<h2> Menu </h2>'), HBox(children=(VBox(children=(Text(value='', description='Worksp…"
      ]
     },
     "metadata": {},
     "output_type": "display_data"
    }
   ],
   "source": [
    "menu_panel = VBox([\n",
    "    HTML(value=\"<h2> Menu </h2>\"),\n",
    "    HBox([model_panel, game_panel])\n",
    "])\n",
    "\n",
    "menu_panel"
   ]
  },
  {
   "cell_type": "code",
   "execution_count": 4,
   "metadata": {},
   "outputs": [
    {
     "name": "stdout",
     "output_type": "stream",
     "text": [
      "########################################\n",
      "Period: 3\t   Time left: 01:32\n",
      "########################################\n",
      "Home: DAL\t | Away: DAL\n",
      "Dallas Stars\t | Minnesota Wild\n",
      "########################################\n",
      "########################################\n",
      "Last ping at: 2021/12/21 14:39:11\n"
     ]
    }
   ],
   "source": [
    "def gui_output(client):\n",
    "    print(\"#\"*40)\n",
    "    print(f\"Period: {client.period}\\t   Time left: {str(client.time_left)[-5:]}\")\n",
    "    print(\"#\"*40)\n",
    "    print(f\"Home: {client.home_abbrev}\\t | Away: {client.away_abbrev}\")\n",
    "    print(f\"{client.home_team}\\t | {client.away_team}\")\n",
    "    print(\"#\"*40)\n",
    "    print(f\"{} \\t | {}\")\n",
    "    print(\"#\"*40)\n",
    "    print(f\"Last ping: {client.last_ping_at}\")\n",
    "    \n",
    "gui_output(client)"
   ]
  },
  {
   "cell_type": "markdown",
   "metadata": {},
   "source": [
    "## testing GUI"
   ]
  },
  {
   "cell_type": "code",
   "execution_count": 2,
   "metadata": {},
   "outputs": [],
   "source": [
    "client = GameClient()"
   ]
  },
  {
   "cell_type": "code",
   "execution_count": 3,
   "metadata": {},
   "outputs": [
    {
     "name": "stderr",
     "output_type": "stream",
     "text": [
      "C:\\Users\\TJ\\miniconda3\\envs\\nice_play\\lib\\site-packages\\pandas\\core\\indexing.py:1732: SettingWithCopyWarning: \n",
      "A value is trying to be set on a copy of a slice from a DataFrame\n",
      "\n",
      "See the caveats in the documentation: https://pandas.pydata.org/pandas-docs/stable/user_guide/indexing.html#returning-a-view-versus-a-copy\n",
      "  self._setitem_single_block(indexer, value, name)\n"
     ]
    }
   ],
   "source": [
    "client.ping_game(2021020492)"
   ]
  }
 ],
 "metadata": {
  "interpreter": {
   "hash": "ead5f43594022c7cd5f301318ae4950132a1480e3738270166fab8a4a3b2cf4b"
  },
  "kernelspec": {
   "display_name": "Python 3.8.11 64-bit ('nice_play': conda)",
   "name": "python3"
  },
  "language_info": {
   "codemirror_mode": {
    "name": "ipython",
    "version": 3
   },
   "file_extension": ".py",
   "mimetype": "text/x-python",
   "name": "python",
   "nbconvert_exporter": "python",
   "pygments_lexer": "ipython3",
   "version": "3.8.11"
  },
  "orig_nbformat": 4
 },
 "nbformat": 4,
 "nbformat_minor": 2
}
