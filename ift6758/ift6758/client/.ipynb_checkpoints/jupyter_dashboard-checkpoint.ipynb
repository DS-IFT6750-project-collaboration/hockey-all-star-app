{
 "cells": [
  {
   "cell_type": "code",
   "execution_count": 30,
   "metadata": {},
   "outputs": [],
   "source": [
    "from IPython.display import display, clear_output\n",
    "from ipywidgets import interact, interactive, Text, Button, GridspecLayout, Layout, Label, VBox, HBox, AppLayout, HTML, Accordion, Dropdown, Output\n",
    "\n",
    "import pandas as pd\n",
    "from game_client import GameClient\n",
    "from serving_client import ServingClient"
   ]
  },
  {
   "cell_type": "code",
   "execution_count": 31,
   "metadata": {},
   "outputs": [],
   "source": [
    "SERVING_CLIENT = ServingClient()\n",
    "GAME_CLIENT = GameClient()"
   ]
  },
  {
   "cell_type": "markdown",
   "metadata": {},
   "source": [
    "## GUI"
   ]
  },
  {
   "cell_type": "code",
   "execution_count": 32,
   "metadata": {},
   "outputs": [],
   "source": [
    "# section to download the model\n",
    "workspace_text_in = Text(description=\"Workspace\", value=\"zilto\")\n",
    "# model_text_in = Text(description=\"Model\")\n",
    "model_text_in = Dropdown(\n",
    "    options= ['best-xgb', 'logistic-regression-with-distance-and-angle-feature'],\n",
    "    value='best-xgb',\n",
    "    description='Model',\n",
    ")\n",
    "# version_text_in = Text(description=\"Version\", value = \"1.0.1\")\n",
    "version_text_in = Dropdown(\n",
    "    options= ['1.0.1', '1.0.0', '2.0.0', '3.0.0'],\n",
    "    value='1.0.1',\n",
    "    description='Version',\n",
    ")\n",
    "download_model_button = Button(description=\"Download model\", button_style=\"info\")\n",
    "\n",
    "model_panel = VBox(\n",
    "    [\n",
    "        workspace_text_in,\n",
    "        model_text_in,\n",
    "        version_text_in,\n",
    "        download_model_button,\n",
    "    ],\n",
    "    layout=Layout(display='flex', flex_flow='column', align_items='flex-end')\n",
    ")"
   ]
  },
  {
   "cell_type": "code",
   "execution_count": 33,
   "metadata": {},
   "outputs": [],
   "source": [
    "def download_btn(btn):\n",
    "    with out:\n",
    "        clear_output()\n",
    "        SERVING_CLIENT.download_registry_model(\n",
    "            workspace=workspace_text_in.value,\n",
    "            model=model_text_in.value,\n",
    "            version=version_text_in.value\n",
    "        )\n",
    "        print(f\"Downloading model: {model_text_in.value} v{version_text_in.value}\")\n",
    "\n",
    "download_model_button.on_click(download_btn)"
   ]
  },
  {
   "cell_type": "code",
   "execution_count": 34,
   "metadata": {},
   "outputs": [],
   "source": [
    "# section to ping the game\n",
    "ping_button = Button(description=\"Query game\", button_style=\"info\")\n",
    "game_id_input = Text(description=\"Game ID\")\n",
    "\n",
    "game_panel = VBox(\n",
    "    [\n",
    "        game_id_input,\n",
    "        ping_button,\n",
    "    ],\n",
    "    layout=Layout(display='flex', flex_flow='column', align_items='flex-end')\n",
    ")"
   ]
  },
  {
   "cell_type": "code",
   "execution_count": 35,
   "metadata": {},
   "outputs": [],
   "source": [
    "def gui_output(client):\n",
    "    print(\"#\"*40)\n",
    "    print(\"STATUS\")\n",
    "    print(f\"Period: {client.period}\\t   Time left: {str(client.time_left)[-5:]}\")\n",
    "    print(\"#\"*40)\n",
    "    print(\"TEAMS\")\n",
    "    print(f\"Home: {client.home_abbrev}\\t | Away: {client.away_abbrev}\")\n",
    "    print(f\"{client.home_team}\\t | {client.away_team}\")\n",
    "    print(\"#\"*40)\n",
    "    print(\"EXPECTED GOAL\")\n",
    "    print(f\"{client.home_abbrev} xG: {client.home_xg:.4f}\\t | {client.away_abbrev} xG: {client.away_xg:.4f}\")\n",
    "    print(\"#\"*40)\n",
    "    print(f\"last ping: {client.last_ping_at}\")\n",
    "    print(\"\\n\\n\")\n",
    "  \n",
    "\n",
    "def ping_btn(btn):\n",
    "    with out:\n",
    "        clear_output()\n",
    "        previous_df_length = GAME_CLIENT.features_df.shape[0]\n",
    "        GAME_CLIENT.ping_game(game_id_input.value)\n",
    "        if GAME_CLIENT.features_df.shape[0] != previous_df_length:\n",
    "            features = GAME_CLIENT.features_df.iloc[previous_df_length:]\n",
    "            predicted_xg = SERVING_CLIENT.predict(features)\n",
    "\n",
    "            GAME_CLIENT.predictions=GAME_CLIENT.predictions.append(pd.Series(predicted_xg, name = 'predicted_xg'))\n",
    "            df = GAME_CLIENT.features_df\n",
    "            df['predicted_xg'] = GAME_CLIENT.predictions\n",
    "            GAME_CLIENT.update_predictions()\n",
    "        gui_output(GAME_CLIENT)\n",
    "        display(df)\n",
    "\n",
    "ping_button.on_click(ping_btn)"
   ]
  },
  {
   "cell_type": "code",
   "execution_count": 36,
   "metadata": {},
   "outputs": [],
   "source": [
    "out = Output()\n",
    "\n",
    "dashboard = HBox([\n",
    "    VBox([\n",
    "        HTML(value=\"<h2>Menu</h2>\"),\n",
    "        model_panel,\n",
    "        game_panel\n",
    "    ]),\n",
    "    VBox([out], layout=Layout(display=\"flex\", flex_flow=\"row\", align_items=\"center\"))\n",
    "])"
   ]
  },
  {
   "cell_type": "code",
   "execution_count": null,
   "metadata": {},
   "outputs": [],
   "source": [
    "display(dashboard)"
   ]
  },
  {
   "cell_type": "code",
   "execution_count": null,
   "metadata": {},
   "outputs": [],
   "source": [
    "df = GAME_CLIENT.features_df\n",
    "df['predicted_xg'] = GAME_CLIENT.predictions\n",
    "display(df)"
   ]
  },
  {
   "cell_type": "code",
   "execution_count": null,
   "metadata": {},
   "outputs": [],
   "source": [
    "GAME_CLIENT.ping_game(2021020492)"
   ]
  }
 ],
 "metadata": {
  "interpreter": {
   "hash": "ead5f43594022c7cd5f301318ae4950132a1480e3738270166fab8a4a3b2cf4b"
  },
  "kernelspec": {
   "display_name": "Python 3 (ipykernel)",
   "language": "python",
   "name": "python3"
  },
  "language_info": {
   "codemirror_mode": {
    "name": "ipython",
    "version": 3
   },
   "file_extension": ".py",
   "mimetype": "text/x-python",
   "name": "python",
   "nbconvert_exporter": "python",
   "pygments_lexer": "ipython3",
   "version": "3.8.2"
  }
 },
 "nbformat": 4,
 "nbformat_minor": 2
}
